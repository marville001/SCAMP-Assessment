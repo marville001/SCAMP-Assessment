{
 "cells": [
  {
   "cell_type": "code",
   "execution_count": 35,
   "metadata": {},
   "outputs": [
    {
     "data": {
      "text/html": [
       "<div>\n",
       "<style scoped>\n",
       "    .dataframe tbody tr th:only-of-type {\n",
       "        vertical-align: middle;\n",
       "    }\n",
       "\n",
       "    .dataframe tbody tr th {\n",
       "        vertical-align: top;\n",
       "    }\n",
       "\n",
       "    .dataframe thead th {\n",
       "        text-align: right;\n",
       "    }\n",
       "</style>\n",
       "<table border=\"1\" class=\"dataframe\">\n",
       "  <thead>\n",
       "    <tr style=\"text-align: right;\">\n",
       "      <th></th>\n",
       "      <th>Author</th>\n",
       "      <th>User Rating</th>\n",
       "      <th>Reviews</th>\n",
       "      <th>Price</th>\n",
       "      <th>Year</th>\n",
       "      <th>Genre</th>\n",
       "    </tr>\n",
       "    <tr>\n",
       "      <th>Name</th>\n",
       "      <th></th>\n",
       "      <th></th>\n",
       "      <th></th>\n",
       "      <th></th>\n",
       "      <th></th>\n",
       "      <th></th>\n",
       "    </tr>\n",
       "  </thead>\n",
       "  <tbody>\n",
       "    <tr>\n",
       "      <th>10-Day Green Smoothie Cleanse</th>\n",
       "      <td>JJ Smith</td>\n",
       "      <td>4.7</td>\n",
       "      <td>17350</td>\n",
       "      <td>8</td>\n",
       "      <td>2016</td>\n",
       "      <td>Non Fiction</td>\n",
       "    </tr>\n",
       "    <tr>\n",
       "      <th>11/22/63: A Novel</th>\n",
       "      <td>Stephen King</td>\n",
       "      <td>4.6</td>\n",
       "      <td>2052</td>\n",
       "      <td>22</td>\n",
       "      <td>2011</td>\n",
       "      <td>Fiction</td>\n",
       "    </tr>\n",
       "    <tr>\n",
       "      <th>12 Rules for Life: An Antidote to Chaos</th>\n",
       "      <td>Jordan B. Peterson</td>\n",
       "      <td>4.7</td>\n",
       "      <td>18979</td>\n",
       "      <td>15</td>\n",
       "      <td>2018</td>\n",
       "      <td>Non Fiction</td>\n",
       "    </tr>\n",
       "    <tr>\n",
       "      <th>1984 (Signet Classics)</th>\n",
       "      <td>George Orwell</td>\n",
       "      <td>4.7</td>\n",
       "      <td>21424</td>\n",
       "      <td>6</td>\n",
       "      <td>2017</td>\n",
       "      <td>Fiction</td>\n",
       "    </tr>\n",
       "    <tr>\n",
       "      <th>5,000 Awesome Facts (About Everything!) (National Geographic Kids)</th>\n",
       "      <td>National Geographic Kids</td>\n",
       "      <td>4.8</td>\n",
       "      <td>7665</td>\n",
       "      <td>12</td>\n",
       "      <td>2019</td>\n",
       "      <td>Non Fiction</td>\n",
       "    </tr>\n",
       "    <tr>\n",
       "      <th>A Dance with Dragons (A Song of Ice and Fire)</th>\n",
       "      <td>George R. R. Martin</td>\n",
       "      <td>4.4</td>\n",
       "      <td>12643</td>\n",
       "      <td>11</td>\n",
       "      <td>2011</td>\n",
       "      <td>Fiction</td>\n",
       "    </tr>\n",
       "    <tr>\n",
       "      <th>A Game of Thrones / A Clash of Kings / A Storm of Swords / A Feast of Crows / A Dance with Dragons</th>\n",
       "      <td>George R. R. Martin</td>\n",
       "      <td>4.7</td>\n",
       "      <td>19735</td>\n",
       "      <td>30</td>\n",
       "      <td>2014</td>\n",
       "      <td>Fiction</td>\n",
       "    </tr>\n",
       "    <tr>\n",
       "      <th>A Gentleman in Moscow: A Novel</th>\n",
       "      <td>Amor Towles</td>\n",
       "      <td>4.7</td>\n",
       "      <td>19699</td>\n",
       "      <td>15</td>\n",
       "      <td>2017</td>\n",
       "      <td>Fiction</td>\n",
       "    </tr>\n",
       "    <tr>\n",
       "      <th>A Higher Loyalty: Truth, Lies, and Leadership</th>\n",
       "      <td>James Comey</td>\n",
       "      <td>4.7</td>\n",
       "      <td>5983</td>\n",
       "      <td>3</td>\n",
       "      <td>2018</td>\n",
       "      <td>Non Fiction</td>\n",
       "    </tr>\n",
       "    <tr>\n",
       "      <th>A Man Called Ove: A Novel</th>\n",
       "      <td>Fredrik Backman</td>\n",
       "      <td>4.6</td>\n",
       "      <td>23848</td>\n",
       "      <td>8</td>\n",
       "      <td>2016</td>\n",
       "      <td>Fiction</td>\n",
       "    </tr>\n",
       "  </tbody>\n",
       "</table>\n",
       "</div>"
      ],
      "text/plain": [
       "                                                                      Author  \\\n",
       "Name                                                                           \n",
       "10-Day Green Smoothie Cleanse                                       JJ Smith   \n",
       "11/22/63: A Novel                                               Stephen King   \n",
       "12 Rules for Life: An Antidote to Chaos                   Jordan B. Peterson   \n",
       "1984 (Signet Classics)                                         George Orwell   \n",
       "5,000 Awesome Facts (About Everything!) (Nation...  National Geographic Kids   \n",
       "A Dance with Dragons (A Song of Ice and Fire)            George R. R. Martin   \n",
       "A Game of Thrones / A Clash of Kings / A Storm ...       George R. R. Martin   \n",
       "A Gentleman in Moscow: A Novel                                   Amor Towles   \n",
       "A Higher Loyalty: Truth, Lies, and Leadership                    James Comey   \n",
       "A Man Called Ove: A Novel                                    Fredrik Backman   \n",
       "\n",
       "                                                    User Rating  Reviews  \\\n",
       "Name                                                                       \n",
       "10-Day Green Smoothie Cleanse                               4.7    17350   \n",
       "11/22/63: A Novel                                           4.6     2052   \n",
       "12 Rules for Life: An Antidote to Chaos                     4.7    18979   \n",
       "1984 (Signet Classics)                                      4.7    21424   \n",
       "5,000 Awesome Facts (About Everything!) (Nation...          4.8     7665   \n",
       "A Dance with Dragons (A Song of Ice and Fire)               4.4    12643   \n",
       "A Game of Thrones / A Clash of Kings / A Storm ...          4.7    19735   \n",
       "A Gentleman in Moscow: A Novel                              4.7    19699   \n",
       "A Higher Loyalty: Truth, Lies, and Leadership               4.7     5983   \n",
       "A Man Called Ove: A Novel                                   4.6    23848   \n",
       "\n",
       "                                                    Price  Year        Genre  \n",
       "Name                                                                          \n",
       "10-Day Green Smoothie Cleanse                           8  2016  Non Fiction  \n",
       "11/22/63: A Novel                                      22  2011      Fiction  \n",
       "12 Rules for Life: An Antidote to Chaos                15  2018  Non Fiction  \n",
       "1984 (Signet Classics)                                  6  2017      Fiction  \n",
       "5,000 Awesome Facts (About Everything!) (Nation...     12  2019  Non Fiction  \n",
       "A Dance with Dragons (A Song of Ice and Fire)          11  2011      Fiction  \n",
       "A Game of Thrones / A Clash of Kings / A Storm ...     30  2014      Fiction  \n",
       "A Gentleman in Moscow: A Novel                         15  2017      Fiction  \n",
       "A Higher Loyalty: Truth, Lies, and Leadership           3  2018  Non Fiction  \n",
       "A Man Called Ove: A Novel                               8  2016      Fiction  "
      ]
     },
     "execution_count": 35,
     "metadata": {},
     "output_type": "execute_result"
    }
   ],
   "source": [
    "import matplotlib.pyplot as plt\n",
    "import numpy as np \n",
    "import pandas as pd\n",
    "%matplotlib inline\n",
    "\n",
    "df = pd.read_csv(\"novels.csv\")\n",
    "df.set_index(\"Name\", inplace=True)\n",
    "df.head(10)"
   ]
  },
  {
   "cell_type": "markdown",
   "metadata": {},
   "source": [
    "## 1.Top 10 selling books"
   ]
  },
  {
   "cell_type": "code",
   "execution_count": 36,
   "metadata": {},
   "outputs": [
    {
     "data": {
      "text/plain": [
       "Name\n",
       "The Fault in Our Stars                                                               201928\n",
       "Oh, the Places You'll Go!                                                            174672\n",
       "Gone Girl                                                                            171813\n",
       "The Girl on the Train                                                                158892\n",
       "Unbroken: A World War II Story of Survival, Resilience, and Redemption               148365\n",
       "The Four Agreements: A Practical Guide to Personal Freedom (A Toltec Wisdom Book)    139848\n",
       "The Very Hungry Caterpillar                                                          136822\n",
       "To Kill a Mockingbird                                                                131170\n",
       "The 5 Love Languages: The Secret to Love that Lasts                                  127770\n",
       "How to Win Friends & Influence People                                                125005\n",
       "Name: Reviews, dtype: int64"
      ]
     },
     "execution_count": 36,
     "metadata": {},
     "output_type": "execute_result"
    }
   ],
   "source": [
    "topNovels = df[\"Reviews\"]\n",
    "topNovels = topNovels.groupby(topNovels.index).sum()\n",
    "topNovels.sort_values(inplace=True, ascending=False)\n",
    "topNovels.head(10)"
   ]
  },
  {
   "cell_type": "markdown",
   "metadata": {},
   "source": [
    "## 2.The percentage of fiction to non-fiction.\n"
   ]
  },
  {
   "cell_type": "code",
   "execution_count": 96,
   "metadata": {},
   "outputs": [
    {
     "data": {
      "image/png": "[encoded data removed]",
      "text/plain": [
       "<Figure size 432x288 with 1 Axes>"
      ]
     },
     "metadata": {},
     "output_type": "display_data"
    }
   ],
   "source": [
    "genre_count = df[\"Genre\"].value_counts()\n",
    "plt.pie(genre_count, labels = genre_count.index)\n",
    "plt.show()"
   ]
  },
  {
   "cell_type": "markdown",
   "metadata": {},
   "source": [
    "## 3.Trends over the years"
   ]
  },
  {
   "cell_type": "code",
   "execution_count": 123,
   "metadata": {},
   "outputs": [
    {
     "name": "stdout",
     "output_type": "stream",
     "text": [
      "[2009 2010 2011 2012 2013 2014 2015 2016 2017 2018 2019]\n"
     ]
    },
    {
     "ename": "ValueError",
     "evalue": "The truth value of a Series is ambiguous. Use a.empty, a.bool(), a.item(), a.any() or a.all().",
     "output_type": "error",
     "traceback": [
      "\u001b[1;31m---------------------------------------------------------------------------\u001b[0m",
      "\u001b[1;31mValueError\u001b[0m                                Traceback (most recent call last)",
      "\u001b[1;32m<ipython-input-123-2c63b64b94c2>\u001b[0m in \u001b[0;36m<module>\u001b[1;34m\u001b[0m\n\u001b[0;32m     11\u001b[0m     \u001b[0mnd\u001b[0m \u001b[1;33m=\u001b[0m \u001b[0mtrendingDf\u001b[0m\u001b[1;33m.\u001b[0m\u001b[0mloc\u001b[0m\u001b[1;33m[\u001b[0m\u001b[0mtrendingDf\u001b[0m\u001b[1;33m[\u001b[0m\u001b[1;34m\"Year\"\u001b[0m\u001b[1;33m]\u001b[0m \u001b[1;33m==\u001b[0m \u001b[0myear\u001b[0m\u001b[1;33m]\u001b[0m\u001b[1;33m\u001b[0m\u001b[1;33m\u001b[0m\u001b[0m\n\u001b[0;32m     12\u001b[0m     \u001b[1;32mfor\u001b[0m \u001b[0mgenre\u001b[0m \u001b[1;32min\u001b[0m \u001b[0mgenres\u001b[0m\u001b[1;33m:\u001b[0m\u001b[1;33m\u001b[0m\u001b[1;33m\u001b[0m\u001b[0m\n\u001b[1;32m---> 13\u001b[1;33m         \u001b[1;32mif\u001b[0m \u001b[0mnd\u001b[0m\u001b[1;33m[\u001b[0m\u001b[1;34m\"Genre\"\u001b[0m\u001b[1;33m]\u001b[0m \u001b[1;33m==\u001b[0m \u001b[1;34m\"Fiction\"\u001b[0m\u001b[1;33m:\u001b[0m\u001b[1;33m\u001b[0m\u001b[1;33m\u001b[0m\u001b[0m\n\u001b[0m\u001b[0;32m     14\u001b[0m             \u001b[0mfictionDf\u001b[0m\u001b[1;33m.\u001b[0m\u001b[0mappend\u001b[0m\u001b[1;33m(\u001b[0m\u001b[0mnd\u001b[0m\u001b[1;33m)\u001b[0m\u001b[1;33m\u001b[0m\u001b[1;33m\u001b[0m\u001b[0m\n\u001b[0;32m     15\u001b[0m         \u001b[1;32melse\u001b[0m\u001b[1;33m:\u001b[0m\u001b[1;33m\u001b[0m\u001b[1;33m\u001b[0m\u001b[0m\n",
      "\u001b[1;32mC:\\Apps\\lib\\site-packages\\pandas\\core\\generic.py\u001b[0m in \u001b[0;36m__nonzero__\u001b[1;34m(self)\u001b[0m\n\u001b[0;32m   1327\u001b[0m \u001b[1;33m\u001b[0m\u001b[0m\n\u001b[0;32m   1328\u001b[0m     \u001b[1;32mdef\u001b[0m \u001b[0m__nonzero__\u001b[0m\u001b[1;33m(\u001b[0m\u001b[0mself\u001b[0m\u001b[1;33m)\u001b[0m\u001b[1;33m:\u001b[0m\u001b[1;33m\u001b[0m\u001b[1;33m\u001b[0m\u001b[0m\n\u001b[1;32m-> 1329\u001b[1;33m         raise ValueError(\n\u001b[0m\u001b[0;32m   1330\u001b[0m             \u001b[1;34mf\"The truth value of a {type(self).__name__} is ambiguous. \"\u001b[0m\u001b[1;33m\u001b[0m\u001b[1;33m\u001b[0m\u001b[0m\n\u001b[0;32m   1331\u001b[0m             \u001b[1;34m\"Use a.empty, a.bool(), a.item(), a.any() or a.all().\"\u001b[0m\u001b[1;33m\u001b[0m\u001b[1;33m\u001b[0m\u001b[0m\n",
      "\u001b[1;31mValueError\u001b[0m: The truth value of a Series is ambiguous. Use a.empty, a.bool(), a.item(), a.any() or a.all()."
     ]
    }
   ],
   "source": [
    "index = df.index.unique()\n",
    "trendingDf = df[[\"Year\",\"Genre\"]]\n",
    "years = trendingDf[\"Year\"].unique()\n",
    "years = np.sort(years)\n",
    "print(years)\n",
    "\n",
    "# Not yet done\n",
    "\n",
    "# fictionDf = []\n",
    "# non_fictionDf = []\n",
    "# genres = [\"Fiction\",\"Non Fiction\"]\n",
    "# for year in years:\n",
    "#     nd = trendingDf.loc[trendingDf[\"Year\"] == year]\n",
    "#     for genre in genres:\n",
    "#         if nd[\"Genre\"] == \"Fiction\":\n",
    "#             fictionDf.append(nd)\n",
    "#         else:\n",
    "#             non_fictionDf.append(nd)\n",
    "        \n"
   ]
  },
  {
   "cell_type": "code",
   "execution_count": null,
   "metadata": {},
   "outputs": [],
   "source": []
  }
 ],
 "metadata": {
  "kernelspec": {
   "display_name": "Python 3",
   "language": "python",
   "name": "python3"
  },
  "language_info": {
   "codemirror_mode": {
    "name": "ipython",
    "version": 3
   },
   "file_extension": ".py",
   "mimetype": "text/x-python",
   "name": "python",
   "nbconvert_exporter": "python",
   "pygments_lexer": "ipython3",
   "version": "3.8.5"
  }
 },
 "nbformat": 4,
 "nbformat_minor": 4
}
